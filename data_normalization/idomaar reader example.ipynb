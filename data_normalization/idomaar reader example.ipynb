{
 "cells": [
  {
   "cell_type": "markdown",
   "metadata": {},
   "source": [
    "The 30MusicDataset has 6 kind of entities:\n",
    "* Users\n",
    "* Tracks\n",
    "* Albums\n",
    "* Persons\n",
    "* Playlist\n",
    "* Tags\n",
    "\n",
    "And 3 kind of relations:\n",
    "* Events\n",
    "* Sessions\n",
    "* Love\n",
    "\n",
    "And one might wonder... _what is love?_, to which all i can answer is: _baby don't hurt me_"
   ]
  },
  {
   "cell_type": "code",
   "execution_count": 1,
   "metadata": {},
   "outputs": [
    {
     "name": "stdout",
     "output_type": "stream",
     "text": [
      "event.session 287144\n",
      "[track 4698874, track 838286, track 2588097, track 2746740, track 3873988, track 808046, track 2588498, track 2492893, track 2168413, track 1778345, track 2989691, track 4698875, track 2985955, track 4698876, track 1728736, track 2615446, track 4698877, track 4698878, track 515524, track 4698879, track 4698880, track 2444241, track 4698881]\n",
      "event.session 287145\n",
      "[track 455834, track 2460503, track 1999451, track 3257000, track 2765459, track 4698882, track 1311408, track 3439451, track 3295570, track 2503246, track 249947]\n",
      "event.session 287146\n",
      "[track 4698883, track 1299602, track 1907900, track 1646559, track 118991, track 1083663, track 3776691, track 888681, track 2846240, track 1316202, track 4698884, track 1979451, track 888696, track 1083664, track 120054, track 2897013]\n",
      "event.session 287147\n",
      "[track 2503252, track 1329082, track 1066876, track 4678485, track 1876964]\n",
      "event.session 287140\n",
      "[track 3770848, track 375509]\n",
      "event.session 287141\n",
      "[track 485883, track 3287727, track 3287736, track 3287725, track 3287729, track 3287745, track 3287727, track 3287736, track 3287725, track 3287729, track 3287741, track 4501544, track 3287738, track 4698872, track 3287750, track 3770848, track 3770868, track 657921, track 657849, track 657912, track 3770848, track 657824, track 657857, track 657859, track 3287727, track 3287736, track 3287725, track 657838, track 150645, track 3851444, track 1325416, track 1325417]\n"
     ]
    }
   ],
   "source": [
    "from idomaar import *\n",
    "\n",
    "with idomaarReader(\"../data/ThirtyMusic/relations/sessions.idomaar\") as ier:\n",
    "    i = 0\n",
    "    for e in ier:\n",
    "        print(e)\n",
    "        print(e.linked.objects)\n",
    "        if i == 5: break\n",
    "        i += 1"
   ]
  }
 ],
 "metadata": {
  "kernelspec": {
   "display_name": "Python 3",
   "language": "python",
   "name": "python3"
  },
  "language_info": {
   "codemirror_mode": {
    "name": "ipython",
    "version": 3
   },
   "file_extension": ".py",
   "mimetype": "text/x-python",
   "name": "python",
   "nbconvert_exporter": "python",
   "pygments_lexer": "ipython3",
   "version": "3.6.7"
  }
 },
 "nbformat": 4,
 "nbformat_minor": 2
}
